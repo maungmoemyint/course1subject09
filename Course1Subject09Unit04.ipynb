{
 "cells": [
  {
   "cell_type": "code",
   "execution_count": 1,
   "id": "df490a4f-0bde-4107-9e3b-5dbfbcf1f328",
   "metadata": {},
   "outputs": [],
   "source": [
    "import numpy as np\n",
    "import pandas as pd"
   ]
  },
  {
   "cell_type": "code",
   "execution_count": 2,
   "id": "fcdc918e-cade-4575-bbe0-1ae2c49aca6a",
   "metadata": {},
   "outputs": [],
   "source": [
    "import random"
   ]
  },
  {
   "cell_type": "code",
   "execution_count": 3,
   "id": "9a7611cc-fa80-4d1e-b5fa-4c1c1c568585",
   "metadata": {},
   "outputs": [],
   "source": [
    "bag =['r', 'r', 'r', 'g','g','g','g']"
   ]
  },
  {
   "cell_type": "code",
   "execution_count": 5,
   "id": "601f2ca7-1ae9-4c7c-a599-1fca97829940",
   "metadata": {},
   "outputs": [
    {
     "data": {
      "text/plain": [
       "6"
      ]
     },
     "execution_count": 5,
     "metadata": {},
     "output_type": "execute_result"
    }
   ],
   "source": [
    "#Generate a random number\n",
    "random.randrange(len(bag)) #Return a random value between 0 and 7, excluding 7"
   ]
  },
  {
   "cell_type": "code",
   "execution_count": 6,
   "id": "95a23a1e-6302-4f20-b229-e6582cade2d1",
   "metadata": {},
   "outputs": [],
   "source": [
    "# Pick the color of ball\n",
    "\n",
    "color1 = bag[random.randrange(len(bag))]\n",
    "color2 = bag[random.randrange(len(bag))]"
   ]
  },
  {
   "cell_type": "code",
   "execution_count": 7,
   "id": "ff27bc92-4452-408d-bb16-967f51d52bf6",
   "metadata": {},
   "outputs": [
    {
     "data": {
      "text/plain": [
       "'r'"
      ]
     },
     "execution_count": 7,
     "metadata": {},
     "output_type": "execute_result"
    }
   ],
   "source": [
    "color1"
   ]
  },
  {
   "cell_type": "code",
   "execution_count": 8,
   "id": "3fba43be-13a8-4b5c-9d1f-41d0cb110a62",
   "metadata": {},
   "outputs": [
    {
     "data": {
      "text/plain": [
       "'r'"
      ]
     },
     "execution_count": 8,
     "metadata": {},
     "output_type": "execute_result"
    }
   ],
   "source": [
    "color2"
   ]
  },
  {
   "cell_type": "markdown",
   "id": "139a7cfa-3dcb-4100-b907-f319bc17ba90",
   "metadata": {},
   "source": [
    "### Experiment 1 - With Replacement"
   ]
  },
  {
   "cell_type": "code",
   "execution_count": 9,
   "id": "7de9c4e2-ec11-4142-8f32-3765e5257628",
   "metadata": {},
   "outputs": [
    {
     "data": {
      "text/plain": [
       "0.1855"
      ]
     },
     "execution_count": 9,
     "metadata": {},
     "output_type": "execute_result"
    }
   ],
   "source": [
    "# Code for testing\n",
    "\n",
    "bag =['r', 'r', 'r', 'g','g','g','g']\n",
    "experiements = 10000\n",
    "counter = 0\n",
    "\n",
    "for i in range(experiements):\n",
    "    color1 = bag[random.randrange(len(bag))]\n",
    "    color2 = bag[random.randrange(len(bag))]\n",
    "    if color1=='r' and color2=='r':\n",
    "        counter += 1\n",
    "\n",
    "counter/experiements\n",
    "    "
   ]
  },
  {
   "cell_type": "markdown",
   "id": "8bf8a0ca-95d0-4791-8b44-b7485a7d4960",
   "metadata": {},
   "source": [
    "### Experiment 2 - Without Replacement"
   ]
  },
  {
   "cell_type": "code",
   "execution_count": 11,
   "id": "09e51880-5e48-4491-a3e4-b13300394c8a",
   "metadata": {},
   "outputs": [
    {
     "data": {
      "text/plain": [
       "0.1337"
      ]
     },
     "execution_count": 11,
     "metadata": {},
     "output_type": "execute_result"
    }
   ],
   "source": [
    "# bag.remove(color1)\n",
    "# bag.append(color1)\n",
    "\n",
    "# import random #alread imported\n",
    "bag =['r', 'r', 'r', 'g','g','g','g']\n",
    "experiments = 10000\n",
    "counter = 0\n",
    "\n",
    "for i in range(experiments):\n",
    "    color1 = bag[random.randrange(len(bag))]\n",
    "    # let's remove the marble from the bag\n",
    "    bag.remove(color1)\n",
    "    color2 = bag[random.randrange(len(bag))]\n",
    "    if color1=='r' and color2=='r':\n",
    "        counter+=1\n",
    "    #Let's put the first marble back for the next experiment\n",
    "    bag.append(color1)\n",
    "\n",
    "counter/experiments"
   ]
  },
  {
   "cell_type": "markdown",
   "id": "459cc16e-24e8-407a-ada6-4532d21e9c24",
   "metadata": {},
   "source": [
    "### Conditional Probability"
   ]
  }
 ],
 "metadata": {
  "kernelspec": {
   "display_name": "Python 3 (ipykernel)",
   "language": "python",
   "name": "python3"
  },
  "language_info": {
   "codemirror_mode": {
    "name": "ipython",
    "version": 3
   },
   "file_extension": ".py",
   "mimetype": "text/x-python",
   "name": "python",
   "nbconvert_exporter": "python",
   "pygments_lexer": "ipython3",
   "version": "3.9.7"
  }
 },
 "nbformat": 4,
 "nbformat_minor": 5
}
